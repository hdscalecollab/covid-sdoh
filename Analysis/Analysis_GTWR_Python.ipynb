{
 "cells": [
  {
   "cell_type": "markdown",
   "id": "4a45ae1a-a6b3-4847-8ee9-c94c93a21eb8",
   "metadata": {
    "tags": []
   },
   "source": [
    "# Running GTWR model on COVID data with pre-defined waves information\n",
    "\n",
    "- Prerequisite python libraies: pandas, geopandas, numpy, gtwr\n",
    "- Input data: Covid cases aggregated by ZCTA at weekly level\n",
    "- Output data: \n",
    "  1. *model_diagnosis* : diagnosis metrics for the fitted GTWR model including **<'AIC','BIC','R^2', Adjusted R^2'>**\n",
    "  1. *model_coeff*     : model outputs including **<coefficient, t-statistic, standard residual>**\n",
    "  1. *model_params*    : parameters that were used to fit the GTWR model \n",
    "  \n",
    "---\n",
    "\n",
    "### Analysis workflow:\n",
    "\n",
    "1. Configuration: define waves (start/end date)\n",
    "1. Configuration: define global parameters\n",
    "1. Data pre-processing: prepare shapefile of the study area, process case data, prepare variables\n",
    "1. Finalize model input data: standardize varaibels \n",
    "1. **[Optional]** use Golden Search to find optimized parameters (bandwidth and patio-temporal scale)\n",
    "1. Fit GTWR model \n",
    "1. Export model output and model settings to .csv files"
   ]
  },
  {
   "cell_type": "code",
   "execution_count": 2,
   "id": "f2c2d9a1",
   "metadata": {
    "execution": {
     "iopub.execute_input": "2023-12-05T01:03:58.759441Z",
     "iopub.status.busy": "2023-12-05T01:03:58.759441Z",
     "iopub.status.idle": "2023-12-05T01:03:59.915352Z",
     "shell.execute_reply": "2023-12-05T01:03:59.914354Z",
     "shell.execute_reply.started": "2023-12-05T01:03:58.759441Z"
    },
    "tags": []
   },
   "outputs": [],
   "source": [
    "### Import required packages\n",
    "import pandas as pd\n",
    "\n",
    "import os\n",
    "os.environ['USE_PYGEOS'] = '0'\n",
    "import geopandas as gpd\n",
    "\n",
    "import numpy as np"
   ]
  },
  {
   "cell_type": "code",
   "execution_count": 3,
   "id": "79cd2a6a-d3c1-4af6-be4f-fa8c3b826721",
   "metadata": {
    "execution": {
     "iopub.execute_input": "2023-12-05T01:03:59.973197Z",
     "iopub.status.busy": "2023-12-05T01:03:59.973197Z",
     "iopub.status.idle": "2023-12-05T01:04:06.004065Z",
     "shell.execute_reply": "2023-12-05T01:04:06.003069Z",
     "shell.execute_reply.started": "2023-12-05T01:03:59.973197Z"
    },
    "tags": []
   },
   "outputs": [
    {
     "name": "stdout",
     "output_type": "stream",
     "text": [
      "Requirement already satisfied: gtwr in c:\\users\\jiyang\\anaconda3\\envs\\py39\\lib\\site-packages\\gtwr-1.0.2-py3.9.egg (1.0.2)\n"
     ]
    }
   ],
   "source": [
    "### If not installed yet, install gtwr library on the fly\n",
    "!pip install gtwr\n",
    "\n",
    "### Import gtwr library\n",
    "from gtwr import model\n",
    "from gtwr.model import GTWR"
   ]
  },
  {
   "cell_type": "code",
   "execution_count": 12,
   "id": "d1326a44-7bc5-4c42-9b1e-7dab807b4b15",
   "metadata": {
    "execution": {
     "iopub.execute_input": "2023-12-05T01:31:38.968418Z",
     "iopub.status.busy": "2023-12-05T01:31:38.968418Z",
     "iopub.status.idle": "2023-12-05T01:31:38.984375Z",
     "shell.execute_reply": "2023-12-05T01:31:38.983377Z",
     "shell.execute_reply.started": "2023-12-05T01:31:38.968418Z"
    },
    "tags": []
   },
   "outputs": [],
   "source": [
    "### Use these function to check model parameters \n",
    "\n",
    "# help(model.GTWR)\n",
    "# help(GTWR)\n",
    "# dir(GTWR)"
   ]
  },
  {
   "cell_type": "markdown",
   "id": "20fd459c-5866-46a5-9ff0-1843403dc2b6",
   "metadata": {
    "tags": []
   },
   "source": [
    "--- \n",
    "# Step 0: Overal Configurations"
   ]
  },
  {
   "cell_type": "code",
   "execution_count": null,
   "id": "bd986b1a-682c-493f-8fbc-da5cd44d8e95",
   "metadata": {
    "tags": []
   },
   "outputs": [],
   "source": [
    "### Create a ditionary that holds some configurations of waves, starting/ending date\n",
    "\n",
    "wave_info = {\n",
    "    'wave1' : {\n",
    "        'month_range': ['2020May','2020Sep'],\n",
    "        'data_range_start':'2020-05-01',\n",
    "        'data_range_end':'2020-09-30',\n",
    "    },\n",
    "    'wave2' : {\n",
    "        'month_range': ['2020Oct','2021Mar'],\n",
    "        'data_range_start':'2020-10-01',\n",
    "        'data_range_end':'2021-03-31',\n",
    "    },\n",
    "    'wave3' : {\n",
    "        'month_range': ['2021Jun','2021Nov'],\n",
    "        'data_range_start':'2021-06-01',\n",
    "        'data_range_end':'2021-11-30',\n",
    "    },\n",
    "    'wave4' : {\n",
    "        'month_range': ['2021Dec','2022Mar'],\n",
    "        'data_range_start':'2021-12-01',\n",
    "        'data_range_end':'2022-03-31',\n",
    "    },\n",
    "    'wave_test' : {\n",
    "        'month_range': ['2020Apr','2020Apr'],\n",
    "        'data_range_start':'2020-04-01',\n",
    "        'data_range_end':'2020-04-30',\n",
    "    },\n",
    "    'wave_test_long' : {\n",
    "        'month_range': ['2020Apr','2021Apr'],\n",
    "        'data_range_start':'2020-04-01',\n",
    "        'data_range_end':'2021-04-30',\n",
    "    },\n",
    "    'wave_test_18month' : {\n",
    "        'month_range': ['2020Apr','2021Oct'],\n",
    "        'data_range_start':'2020-04-01',\n",
    "        'data_range_end':'2021-10-31',\n",
    "    },\n",
    "     'wave_test_24month' : {\n",
    "        'month_range': ['2020Apr','2022Apr'],\n",
    "        'data_range_start':'2020-04-01',\n",
    "        'data_range_end':'2022-04-30',\n",
    "    },\n",
    "}"
   ]
  },
  {
   "cell_type": "code",
   "execution_count": null,
   "id": "e2398a15-bfba-44c7-b2e0-7aba2da95377",
   "metadata": {
    "tags": []
   },
   "outputs": [],
   "source": [
    "### ------------------------------------------------------------------------------------------------------------\n",
    "### ! Important !\n",
    "### Model Specification : CHANGE these two as you run different models for waves/convariates combinations \n",
    "### ------------------------------------------------------------------------------------------------------------\n",
    "\n",
    "# This wave name correspondes to the name defined in the above wave_info ditionary  ['wave1', 'wave2', ... , 'wave_test_24month'] \n",
    "wave = 'wave_test_24month'   \n",
    "\n",
    "# This index correspondes to the order of the covariates in the config['X_cov'] setting below: ['Hispanic','Crowding','NonHisBlk','EmployService','NoHighSchool']\n",
    "# INDEX == 0 means the covariate is 'Hispanic'\n",
    "X_cov_run_index = 0       \n",
    "\n",
    "\n",
    "### ---------------------------------\n",
    "### Global Parameters\n",
    "### ---------------------------------\n",
    "waveID = wave\n",
    "X_cov_run = X_cov_run_index\n",
    "\n",
    "config = {\n",
    "    'data_path' : \"C:/Users/jyang/Documents/Covid_MUAP_GTWR/FullData/\",    # \n",
    "    'case_data' : \"C:/Users/jyang/Documents/Covid_MUAP_GTWR/FullData/case_var_all0915.csv\",\n",
    "    'subset' : True,          # Set to True to indicate that the model is running either with (a) subset region or (b) subset time frame\n",
    "    'subset_region' : False,  # Set to True if the model is running either with [subset region]\n",
    "    'subset_date' : True,     # Set to True if the model is running either with [subset time frame]\n",
    "    'region' : 'SD',          # If running model for a [subset region], name of the region.  Example: SD/LA/SF...etc\n",
    "    'month_range' :      wave_info[waveID]['month_range'],       # Analysis month range, format: ['2020May','2020Sep'], \n",
    "    'data_range_start' : wave_info[waveID]['data_range_start'],  # Analysis start date, format: '2020-05-01', \n",
    "    'data_range_end' :   wave_info[waveID]['data_range_end'],    # Analysis end date, format: '2020-09-30',\n",
    "    'study_area_Full' : \"C:/Users/jyang/Documents/Covid_MUAP_GTWR/FullData/ZCTA_Update.shp\",   # shapefile of the study area [full region]\n",
    "    'study_area_SD' : \"C:/Users/jyang/Documents/Covid_MUAP_GTWR/FullData/ZCTA_Update_SDCounty_4326.shp\",  # shapefile of the study area [subset region - SD]\n",
    "    'study_area_LA' : \"C:/Users/jyang/Documents/Covid_MUAP_GTWR/FullData/ZCTA_Update_SDCounty_4326.shp\",  # shapefile of the study area [subset region - LA]\n",
    "    'study_area_SF' : \"C:/Users/jyang/Documents/Covid_MUAP_GTWR/FullData/ZCTA_Update_SDCounty_4326.shp\",  # shapefile of the study area [subset region - SF]\n",
    "    'bw_type' : 'fixed',     # indicate if the model uses 'fixed' or 'adaptive' bandwidth \n",
    "    'use_goldenSearch': True,  # indicate if the workflow includes a step of finding optimized model parameters (bw and tau) using Golden Search \n",
    "    'bw' : 0.4,    # bandwidth value consisting of either a distance or N nearest neighbors \n",
    "    'tau':  4000,  # spatio-temporal scale\n",
    "    'tau_min': 3000,  # tau's lower-bound during the golden search\n",
    "    'tau_max': 7000,  # tau's upper-bound during the golden search\n",
    "    'sensiTest_tau': True,  # Set this TRUE if running sensitivity test on bw/tau, this will only change the output file names\n",
    "    'X_cov': ['Hispanic','Crowding','NonHisBlk','EmployService','NoHighSchool'],\n",
    "    'X_control': ['PopDens','RUCA_int','Over65','Obesity'],\n",
    "}\n",
    "\n",
    "\n",
    "### The script will dynamically generate output file paths reflecting the options above\n",
    "if config['subset']:\n",
    "    if config['subset_date']:\n",
    "        gtwr_model_diagnosis_path = f\"gtwr_diagstats_{config['X_cov'][X_cov_run]}_[{config['bw_type']}-{config['region'] if config['subset_region'] else 'AllZcta'}-{config['month_range'][0]}_{config['month_range'][1]}].csv\"\n",
    "        gtwr_model_coeff_result_path = gtwr_model_diagnosis_path.replace(\"diagstats\", \"coeff\")\n",
    "        gtwr_model_params_path = gtwr_model_diagnosis_path.replace(\"diagstats\", \"params\")\n",
    "    else:\n",
    "        gtwr_model_diagnosis_path = f\"gtwr_diagstats_{config['X_cov'][X_cov_run]}_[{config['bw_type']}-{config['region'] if config['subset_region'] else 'AllZcta'}-AllWeeks].csv\"\n",
    "        gtwr_model_coeff_result_path = gtwr_model_diagnosis_path.replace(\"diagstats\", \"coeff\")\n",
    "        gtwr_model_params_path = gtwr_model_diagnosis_path.replace(\"diagstats\", \"params\")\n",
    "else:\n",
    "    gtwr_model_diagnosis_path = f\"gtwr_diagstats_{config['X_cov'][X_cov_run]}_[{config['bw_type']}-AllZcta-AllWeeks].csv\"\n",
    "    gtwr_model_coeff_result_path = gtwr_model_diagnosis_path.replace(\"diagstats\", \"coeff\")\n",
    "    gtwr_model_params_path = gtwr_model_diagnosis_path.replace(\"diagstats\", \"params\")\n",
    "\n",
    "print ('gtwr_model_diagnosis_path :', gtwr_model_diagnosis_path)\n",
    "print ('gtwr_model_coeff_result_path :', gtwr_model_coeff_result_path)\n",
    "print ('gtwr_model_params_path :', gtwr_model_params_path) "
   ]
  },
  {
   "cell_type": "markdown",
   "id": "e0df5b2d-7bcc-42b9-b35a-a99aca247cb3",
   "metadata": {
    "tags": []
   },
   "source": [
    "--- \n",
    "# STEP 1:  Data Pre-Processing"
   ]
  },
  {
   "cell_type": "code",
   "execution_count": null,
   "id": "b5fcfd3a-9a25-47dc-9c0a-f5bab94ffcfa",
   "metadata": {
    "tags": []
   },
   "outputs": [],
   "source": [
    "#############################################################################\n",
    "####### STEP 1:  DATA PREP\n",
    "#############################################################################\n",
    "\n",
    "### ---------------------------------\n",
    "### Prepare shapefile data \n",
    "### ---------------------------------\n",
    "\n",
    "## Read shapefile data\n",
    "if config['subset_region']:\n",
    "    shape_data = gpd.read_file(config['study_area_SD'])  #Subset data with SD County only\n",
    "else:\n",
    "    shape_data = gpd.read_file(config['study_area_Full'])\n",
    "\n",
    "## Process gdf, add center coordinates\n",
    "shape_data = shape_data.set_crs('EPSG:4326',allow_override=True)\n",
    "shape_data['Lat'] = shape_data.centroid.y\n",
    "shape_data['Lon'] = shape_data.centroid.x\n",
    "\n",
    "\n",
    "### ---------------------------------\n",
    "### Prepare case data \n",
    "### ---------------------------------\n",
    "\n",
    "### Read case data\n",
    "cov_data = pd.read_csv(config['case_data'])\n",
    "\n",
    "### If set in Global Parameter setting, filters data by [DateRange] and/or by [Region]\n",
    "## If subset by Date Range, filter by date range (weeks)\n",
    "if config['subset_date']:\n",
    "    cov_data = cov_data[(cov_data['Week'] >= config['data_range_start']) & (cov_data['Week'] <= config['data_range_end'])]\n",
    "    ### Example: cov_data = cov_data[(cov_data['Week'] >= '2020-04-01') & (cov_data['Week'] <= '2020-06-30')]\n",
    "\n",
    "## If subset by region, filter case data by subset location IDs\n",
    "if config['subset_region']:    \n",
    "    cov_data = cov_data[cov_data['ZCTA'].isin(list(shape_data.ZCTA.unique()))]\n",
    "\n",
    "## Sort case data by place and time (ASC)\n",
    "cov_data = cov_data.sort_values(by = ['ZCTA', 'Week'], ascending = [True, True], na_position = 'first')\n",
    "\n",
    "\n",
    "### -------------------------------------------------------\n",
    "### Prepare some variables that needs additional care\n",
    "### -------------------------------------------------------\n",
    "\n",
    "## [RUCA]\n",
    "## Recode RUCA code data to int  { All RUCA: 'Urban', 'Small Rural', 'Isolated Small Rural', 'Large Rural' }\n",
    "ruca_dict = {'Urban':1,\n",
    "             'Small Rural':2, \n",
    "             'Isolated Small Rural':3, \n",
    "             'Large Rural':4}\n",
    "\n",
    "cov_data['RUCA_int'] = cov_data['RUCA'].replace(ruca_dict)\n",
    "\n",
    "## [TIME-var] \n",
    "## Define time as a dummy variable, an incremental integer starting from 1\n",
    "weeks = pd.Series(cov_data['Week'].unique()).sort_values(ascending=True)\n",
    "weeks_dummy = pd.DataFrame(weeks, columns=['Week'])\n",
    "weeks_dummy[\"time_dummy\"] = np.arange(1, len(weeks_dummy) + 1)\n",
    "\n",
    "cov_data = cov_data.merge(weeks_dummy, on='Week', how='left')"
   ]
  },
  {
   "cell_type": "markdown",
   "id": "94d5e0da-e265-45ae-932b-f189830a657b",
   "metadata": {},
   "source": [
    "---\n",
    "# STEP 2: Model Setup"
   ]
  },
  {
   "cell_type": "code",
   "execution_count": null,
   "id": "6f47d795-a495-4462-98a7-f799d3a60906",
   "metadata": {
    "tags": []
   },
   "outputs": [],
   "source": [
    "###############################################\n",
    "####### STEP 2:  Finalize model input data\n",
    "###############################################\n",
    "\n",
    "## Join ZCTA centroid coordinates to COVID case data\n",
    "cov_coords = cov_data.merge(shape_data[['ZCTA','Lat','Lon']], on='ZCTA', how='left')\n",
    "\n",
    "### -------------------------------------------------------\n",
    "### Function to standardize input variables by its own columns\n",
    "### -------------------------------------------------------\n",
    "\n",
    "from sklearn.preprocessing import StandardScaler\n",
    "\n",
    "def standardize_col_zScore(col):\n",
    "    scaler = StandardScaler()\n",
    "    scaler.fit(col)\n",
    "    col = scaler.transform(col)\n",
    "    return col\n",
    "\n",
    "### --------------------------------------------------------------\n",
    "### Define covariate (X), control variables (C), and outcome (Y)\n",
    "### --------------------------------------------------------------\n",
    "\n",
    "## standardize covariate (X)\n",
    "if config['X_cov'][X_cov_run] == 'RUCA_int' :\n",
    "    X1= cov_coords[config['X_cov'][X_cov_run]].to_numpy().reshape(-1, 1)\n",
    "else:\n",
    "    X1=standardize_col_zScore(cov_coords[config['X_cov'][X_cov_run]].to_numpy().reshape(-1, 1))\n",
    "\n",
    "## standardize control variables (C)\n",
    "C1=standardize_col_zScore(cov_coords[config['X_control'][0]].to_numpy().reshape(-1, 1))\n",
    "C2=standardize_col_zScore(cov_coords[config['X_control'][1]].to_numpy().reshape(-1, 1))\n",
    "C3=standardize_col_zScore(cov_coords[config['X_control'][2]].to_numpy().reshape(-1, 1))\n",
    "C4=standardize_col_zScore(cov_coords[config['X_control'][3]].to_numpy().reshape(-1, 1))\n",
    "\n",
    "## set up all paramters for model\n",
    "args = {\n",
    "    'coords': cov_coords[['Lon', 'Lat']].to_numpy(),\n",
    "    't': cov_coords['time_dummy'].to_numpy().reshape(-1, 1),\n",
    "    'y': cov_coords['total_r'].to_numpy().reshape(-1, 1),\n",
    "    'X': np.hstack([X1,C1,C2,C3,C4])\n",
    "}"
   ]
  },
  {
   "cell_type": "code",
   "execution_count": null,
   "id": "ff4e659d-8575-4232-9b36-ed8176b4079a",
   "metadata": {
    "tags": []
   },
   "outputs": [],
   "source": [
    "### ###########################################################\n",
    "### Define Bandwidth (bw) and spatio-temporal scale (tau) \n",
    "### option 1: use pre-defined bw/tau\n",
    "### option 2: use golden search to find optimized bw/tau \n",
    "### ###########################################################\n",
    "\n",
    "from gtwr.sel import SearchGTWRParameter\n",
    "from gtwr import sel\n",
    "\n",
    "## Optional: Search for params [bw, tau] with Golden Search\n",
    "if config['use_goldenSearch']:\n",
    "    sel = SearchGTWRParameter(**args, kernel = 'gaussian', fixed = True)    # fixed=True : use fixed bandwidth  |  fixed=False : use adaptive bandwidth\n",
    "    bw, tau = sel.search(\n",
    "        tau_min = config['tau_min'],   # use the lower-bound defined in the global parameters\n",
    "        tau_max = config['tau_max'],   # use the upper-bound defined in the global parameters\n",
    "        verbose = True\n",
    "    )  #bw unit tau_max = 20\n",
    "    print (f\"Searching for best bw & tau using golden search, tau_min = {config['tau_min']} and tau_max = {config['tau_max']}\")\n",
    "## otherwise, use pre-defined bw/tau from the global parameter configs\n",
    "else:  \n",
    "    bw = config['bw']      # use the defined bandwidth \n",
    "    tau = config['tau']    # use the defined spatio-temporal scale\n",
    "    print (f\"Use pre-defined bw: {bw}  &  tau: {tau}\")"
   ]
  },
  {
   "cell_type": "code",
   "execution_count": null,
   "id": "8731d887-e1f1-47c3-9796-cb7fc049b5a2",
   "metadata": {
    "tags": []
   },
   "outputs": [],
   "source": [
    "### Record the final model parameters in a dictionary, will be saved in output files later.\n",
    "\n",
    "import pprint\n",
    "pp = pprint.PrettyPrinter(indent=4)\n",
    "\n",
    "final_settings_for_model = {\n",
    "    'bw':  bw,\n",
    "    'tau': tau,\n",
    "    'running_with_subset': config['subset'],\n",
    "    'subset_region': config['region'] if config['subset_region'] else False,\n",
    "    'subset_date' : f\"{config['data_range_start']}_to_{config['data_range_end']}\" if config['subset_date'] else False,\n",
    "    'wave' : waveID if config['subset_date'] else False,\n",
    "    'X_covar': config['X_cov'][X_cov_run],\n",
    "    'X_control': config['X_control']\n",
    "}\n",
    "\n",
    "print(f\"GTWR model will run with the following params:\")\n",
    "pp.pprint(final_settings_for_model)"
   ]
  },
  {
   "cell_type": "code",
   "execution_count": null,
   "id": "1ddaadc0-b2f5-46ba-a0a0-05a9ca0deedb",
   "metadata": {
    "tags": []
   },
   "outputs": [],
   "source": [
    "### If indicated in the global parameters setting that this is a sensitivity test run for bw/tau,\n",
    "### This step will update the output file names to reflect the bw/tau selection\n",
    "\n",
    "if config['sensiTest_tau']:\n",
    "    gtwr_model_diagnosis_path = f\"{os.path.splitext(gtwr_model_diagnosis_path)[0]}_[bw-{str(bw)}_tau-{str(tau)}].csv\"\n",
    "    gtwr_model_coeff_result_path = f\"{os.path.splitext(gtwr_model_coeff_result_path)[0]}_[bw-{str(bw)}_tau-{str(tau)}].csv\"\n",
    "    gtwr_model_params_path = f\"{os.path.splitext(gtwr_model_params_path)[0]}_[bw-{str(bw)}_tau-{str(tau)}].csv\"\n",
    "print ('gtwr_model_diagnosis_path :', gtwr_model_diagnosis_path)\n",
    "print ('gtwr_model_coeff_result_path :', gtwr_model_coeff_result_path)\n",
    "print ('gtwr_model_params_path :', gtwr_model_params_path) "
   ]
  },
  {
   "cell_type": "markdown",
   "id": "81760222-a1a4-42f6-b4cf-6770afd9a2fb",
   "metadata": {
    "tags": []
   },
   "source": [
    "---\n",
    "# STEP 3: Fit GTWR Model"
   ]
  },
  {
   "cell_type": "code",
   "execution_count": null,
   "id": "82045460-7fa9-45a2-aa3b-8e877407d073",
   "metadata": {
    "tags": []
   },
   "outputs": [],
   "source": [
    "################################################\n",
    "### STEP 3: FIT GTWR MODEL \n",
    "################################################\n",
    "\n",
    "gtwr = GTWR(\n",
    "    **args,\n",
    "    bw=bw, tau=1,\n",
    "    kernel='gaussian', \n",
    "    fixed=True).fit()   # fixed=True : use fixed bandwidth  |  fixed=False : use adaptive bandwidth"
   ]
  },
  {
   "cell_type": "code",
   "execution_count": null,
   "id": "12a6f41f-41cf-450b-a538-ee8d22f48306",
   "metadata": {
    "tags": []
   },
   "outputs": [],
   "source": [
    "### Check model output: betas\n",
    "# print (gtwr.betas.shape)\n",
    "\n",
    "### Check model output: tvalues\n",
    "# print (gtwr.tvalues.shape)"
   ]
  },
  {
   "cell_type": "markdown",
   "id": "c144f1a7-3d2f-4bdd-bd26-b6890dd9c45c",
   "metadata": {
    "tags": []
   },
   "source": [
    "---\n",
    "# STEP 4: Export Model Setting & Results "
   ]
  },
  {
   "cell_type": "code",
   "execution_count": null,
   "id": "91ad8d15-99e6-4e46-973d-6cca020d6ce5",
   "metadata": {
    "tags": []
   },
   "outputs": [],
   "source": [
    "################################################\n",
    "### STEP 4: Export Model Setting & Results \n",
    "################################################\n",
    "\n",
    "## Save model parameters to .csv \n",
    "from datetime import datetime\n",
    "final_settings_for_model['execution_date'] =  int(datetime.now().date().strftime(\"%Y%m%d\"))\n",
    "pd.DataFrame.from_dict({0:final_settings_for_model}, 'index')[['X_covar','X_control', 'running_with_subset', 'subset_date', 'subset_region','wave', 'bw','tau', 'execution_date']].to_csv(gtwr_model_params_path, index=False)\n",
    "\n",
    "\n",
    "## Save model diagnostic statistics/metrics to .csv  ['AIC','BIC','R^2', Adjusted R^2']\n",
    "diag_stats={\n",
    "    'AIC':[gtwr.aic], \n",
    "    'BIC':[gtwr.bic],\n",
    "    'R2': [gtwr.R2],\n",
    "    'Adj R2':[gtwr.adj_R2]\n",
    "}\n",
    "diag_save=pd.DataFrame(diag_stats)\n",
    "diag_save.to_csv(gtwr_model_diagnosis_path,index=False)\n",
    "\n",
    "## Save model coefficient and t-statistic\n",
    "covariates_names = [config['X_cov'][X_cov_run]] + config['X_control']\n",
    "\n",
    "corff_col_names = ['constant_betas']\n",
    "corff_col_names = corff_col_names + ['coeff_' + s for s in covariates_names]\n",
    "coeff=pd.DataFrame(gtwr.betas, columns=corff_col_names)\n",
    "\n",
    "## Save model t-statistic restuls\n",
    "tStat_col_names = ['constant_tvalues']\n",
    "tStat_col_names = tStat_col_names + ['tStat_' + s for s in covariates_names]\n",
    "tStat=pd.DataFrame(gtwr.tvalues, columns=tStat_col_names)\n",
    "\n",
    "## Save model  standard residual\n",
    "res=pd.DataFrame(gtwr.std_res,columns=['Std_Residuals'])\n",
    "final_result=cov_coords.join([coeff,tStat,res])\n",
    "final_result.to_csv(gtwr_model_coeff_result_path, index=False)\n",
    "\n",
    "print (\"ALL DONE !!\")"
   ]
  },
  {
   "cell_type": "code",
   "execution_count": null,
   "id": "192c9df3-d425-45e8-8d1a-7762443b074a",
   "metadata": {},
   "outputs": [],
   "source": []
  }
 ],
 "metadata": {
  "kernelspec": {
   "display_name": "py39",
   "language": "python",
   "name": "python3"
  },
  "language_info": {
   "codemirror_mode": {
    "name": "ipython",
    "version": 3
   },
   "file_extension": ".py",
   "mimetype": "text/x-python",
   "name": "python",
   "nbconvert_exporter": "python",
   "pygments_lexer": "ipython3",
   "version": "3.9.4"
  }
 },
 "nbformat": 4,
 "nbformat_minor": 5
}
