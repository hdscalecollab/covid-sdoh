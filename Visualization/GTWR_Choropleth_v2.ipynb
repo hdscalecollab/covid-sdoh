{
 "cells": [
  {
   "cell_type": "code",
   "execution_count": 1,
   "id": "b5a77377-3b33-40c2-ab83-f79a8bf5fd88",
   "metadata": {
    "execution": {
     "iopub.execute_input": "2023-11-07T01:55:02.017622Z",
     "iopub.status.busy": "2023-11-07T01:55:02.017622Z",
     "iopub.status.idle": "2023-11-07T01:55:04.619594Z",
     "shell.execute_reply": "2023-11-07T01:55:04.619594Z",
     "shell.execute_reply.started": "2023-11-07T01:55:02.017622Z"
    },
    "tags": []
   },
   "outputs": [],
   "source": [
    "import os\n",
    "os.environ['USE_PYGEOS'] = '0'\n",
    "\n",
    "import pandas as pd\n",
    "import geopandas as gpd\n",
    "from tqdm.notebook import tqdm\n",
    "import matplotlib.pyplot as plt\n",
    "import matplotlib as mpl"
   ]
  },
  {
   "cell_type": "markdown",
   "id": "2d39e396-77e2-47a1-ba5a-a16a710e0454",
   "metadata": {},
   "source": [
    "## Read shapefile of ZCTAs and CA Counties"
   ]
  },
  {
   "cell_type": "code",
   "execution_count": 2,
   "id": "19bf5d10-9127-4291-a736-dbff4d643c4d",
   "metadata": {
    "execution": {
     "iopub.execute_input": "2023-11-07T01:55:04.621588Z",
     "iopub.status.busy": "2023-11-07T01:55:04.621588Z",
     "iopub.status.idle": "2023-11-07T01:55:05.659846Z",
     "shell.execute_reply": "2023-11-07T01:55:05.659846Z",
     "shell.execute_reply.started": "2023-11-07T01:55:04.621588Z"
    },
    "tags": []
   },
   "outputs": [
    {
     "name": "stdout",
     "output_type": "stream",
     "text": [
      "Observations, Attributes: (1666, 4)\n"
     ]
    },
    {
     "data": {
      "text/html": [
       "<div>\n",
       "<style scoped>\n",
       "    .dataframe tbody tr th:only-of-type {\n",
       "        vertical-align: middle;\n",
       "    }\n",
       "\n",
       "    .dataframe tbody tr th {\n",
       "        vertical-align: top;\n",
       "    }\n",
       "\n",
       "    .dataframe thead th {\n",
       "        text-align: right;\n",
       "    }\n",
       "</style>\n",
       "<table border=\"1\" class=\"dataframe\">\n",
       "  <thead>\n",
       "    <tr style=\"text-align: right;\">\n",
       "      <th></th>\n",
       "      <th>ZCTA5CE10</th>\n",
       "      <th>ZCTA</th>\n",
       "      <th>Area</th>\n",
       "      <th>geometry</th>\n",
       "    </tr>\n",
       "  </thead>\n",
       "  <tbody>\n",
       "    <tr>\n",
       "      <th>0</th>\n",
       "      <td>93924</td>\n",
       "      <td>93924</td>\n",
       "      <td>190.283915</td>\n",
       "      <td>POLYGON ((-162540.814 -176061.241, -162041.898...</td>\n",
       "    </tr>\n",
       "    <tr>\n",
       "      <th>1</th>\n",
       "      <td>95404</td>\n",
       "      <td>95404</td>\n",
       "      <td>80.004021</td>\n",
       "      <td>POLYGON ((-238341.052 60298.013, -237609.933 6...</td>\n",
       "    </tr>\n",
       "  </tbody>\n",
       "</table>\n",
       "</div>"
      ],
      "text/plain": [
       "  ZCTA5CE10   ZCTA        Area  \\\n",
       "0     93924  93924  190.283915   \n",
       "1     95404  95404   80.004021   \n",
       "\n",
       "                                            geometry  \n",
       "0  POLYGON ((-162540.814 -176061.241, -162041.898...  \n",
       "1  POLYGON ((-238341.052 60298.013, -237609.933 6...  "
      ]
     },
     "execution_count": 2,
     "metadata": {},
     "output_type": "execute_result"
    }
   ],
   "source": [
    "### Read shapefile of ZCTAs\n",
    "shp_path = \"D:/000_User_Documents/COH/COVID_MUAP/Codes_Notebook/data/ZCTA_Update.shp\"\n",
    "ZCTA_CA = gpd.GeoDataFrame.from_file(shp_path)\n",
    "ZCTA_CA = ZCTA_CA.to_crs('epsg:6414')\n",
    "print('Observations, Attributes:',ZCTA_CA.shape)\n",
    "ZCTA_CA.head(2)"
   ]
  },
  {
   "cell_type": "code",
   "execution_count": 3,
   "id": "530be691-bbc5-41d2-8811-d8d167375584",
   "metadata": {
    "execution": {
     "iopub.execute_input": "2023-11-07T01:55:05.661807Z",
     "iopub.status.busy": "2023-11-07T01:55:05.660811Z",
     "iopub.status.idle": "2023-11-07T01:55:06.160474Z",
     "shell.execute_reply": "2023-11-07T01:55:06.159478Z",
     "shell.execute_reply.started": "2023-11-07T01:55:05.661807Z"
    },
    "tags": []
   },
   "outputs": [
    {
     "name": "stdout",
     "output_type": "stream",
     "text": [
      "Observations, Attributes: (58, 18)\n"
     ]
    },
    {
     "data": {
      "text/html": [
       "<div>\n",
       "<style scoped>\n",
       "    .dataframe tbody tr th:only-of-type {\n",
       "        vertical-align: middle;\n",
       "    }\n",
       "\n",
       "    .dataframe tbody tr th {\n",
       "        vertical-align: top;\n",
       "    }\n",
       "\n",
       "    .dataframe thead th {\n",
       "        text-align: right;\n",
       "    }\n",
       "</style>\n",
       "<table border=\"1\" class=\"dataframe\">\n",
       "  <thead>\n",
       "    <tr style=\"text-align: right;\">\n",
       "      <th></th>\n",
       "      <th>STATEFP</th>\n",
       "      <th>COUNTYFP</th>\n",
       "      <th>COUNTYNS</th>\n",
       "      <th>GEOID</th>\n",
       "      <th>NAME</th>\n",
       "      <th>NAMELSAD</th>\n",
       "      <th>LSAD</th>\n",
       "      <th>CLASSFP</th>\n",
       "      <th>MTFCC</th>\n",
       "      <th>CSAFP</th>\n",
       "      <th>CBSAFP</th>\n",
       "      <th>METDIVFP</th>\n",
       "      <th>FUNCSTAT</th>\n",
       "      <th>ALAND</th>\n",
       "      <th>AWATER</th>\n",
       "      <th>INTPTLAT</th>\n",
       "      <th>INTPTLON</th>\n",
       "      <th>geometry</th>\n",
       "    </tr>\n",
       "  </thead>\n",
       "  <tbody>\n",
       "    <tr>\n",
       "      <th>0</th>\n",
       "      <td>06</td>\n",
       "      <td>091</td>\n",
       "      <td>00277310</td>\n",
       "      <td>06091</td>\n",
       "      <td>Sierra</td>\n",
       "      <td>Sierra County</td>\n",
       "      <td>06</td>\n",
       "      <td>H1</td>\n",
       "      <td>G4020</td>\n",
       "      <td>NaN</td>\n",
       "      <td>NaN</td>\n",
       "      <td>NaN</td>\n",
       "      <td>A</td>\n",
       "      <td>2468694587</td>\n",
       "      <td>23299110</td>\n",
       "      <td>+39.5769252</td>\n",
       "      <td>-120.5219926</td>\n",
       "      <td>POLYGON ((-56192.570 186608.420, -56187.298 18...</td>\n",
       "    </tr>\n",
       "    <tr>\n",
       "      <th>1</th>\n",
       "      <td>06</td>\n",
       "      <td>067</td>\n",
       "      <td>00277298</td>\n",
       "      <td>06067</td>\n",
       "      <td>Sacramento</td>\n",
       "      <td>Sacramento County</td>\n",
       "      <td>06</td>\n",
       "      <td>H1</td>\n",
       "      <td>G4020</td>\n",
       "      <td>472</td>\n",
       "      <td>40900</td>\n",
       "      <td>NaN</td>\n",
       "      <td>A</td>\n",
       "      <td>2499183617</td>\n",
       "      <td>76073827</td>\n",
       "      <td>+38.4500114</td>\n",
       "      <td>-121.3404409</td>\n",
       "      <td>POLYGON ((-103238.273 78232.450, -103128.896 7...</td>\n",
       "    </tr>\n",
       "  </tbody>\n",
       "</table>\n",
       "</div>"
      ],
      "text/plain": [
       "  STATEFP COUNTYFP  COUNTYNS  GEOID        NAME           NAMELSAD LSAD  \\\n",
       "0      06      091  00277310  06091      Sierra      Sierra County   06   \n",
       "1      06      067  00277298  06067  Sacramento  Sacramento County   06   \n",
       "\n",
       "  CLASSFP  MTFCC CSAFP CBSAFP METDIVFP FUNCSTAT       ALAND    AWATER  \\\n",
       "0      H1  G4020   NaN    NaN      NaN        A  2468694587  23299110   \n",
       "1      H1  G4020   472  40900      NaN        A  2499183617  76073827   \n",
       "\n",
       "      INTPTLAT      INTPTLON  \\\n",
       "0  +39.5769252  -120.5219926   \n",
       "1  +38.4500114  -121.3404409   \n",
       "\n",
       "                                            geometry  \n",
       "0  POLYGON ((-56192.570 186608.420, -56187.298 18...  \n",
       "1  POLYGON ((-103238.273 78232.450, -103128.896 7...  "
      ]
     },
     "execution_count": 3,
     "metadata": {},
     "output_type": "execute_result"
    }
   ],
   "source": [
    "### Read shapefile of ZCTAs\n",
    "shp_path_CA = \"D:/000_User_Documents/COH/COVID_MUAP/Codes_Notebook/data/CA_Counties_TIGER2016.shp\"\n",
    "CA_County = gpd.GeoDataFrame.from_file(shp_path_CA)\n",
    "CA_County = CA_County.to_crs('epsg:6414')\n",
    "print('Observations, Attributes:',CA_County.shape)\n",
    "CA_County.head(2)"
   ]
  },
  {
   "cell_type": "markdown",
   "id": "2a7149b8-b574-4fd0-bc67-93ac6b1e2ed5",
   "metadata": {},
   "source": [
    "## Read GTWR model results"
   ]
  },
  {
   "cell_type": "code",
   "execution_count": 4,
   "id": "059b5f09-568a-4a99-a90b-34f00f28e09d",
   "metadata": {
    "execution": {
     "iopub.execute_input": "2023-11-07T01:55:10.081936Z",
     "iopub.status.busy": "2023-11-07T01:55:10.081936Z",
     "iopub.status.idle": "2023-11-07T01:55:16.633304Z",
     "shell.execute_reply": "2023-11-07T01:55:16.632338Z",
     "shell.execute_reply.started": "2023-11-07T01:55:10.081936Z"
    },
    "tags": []
   },
   "outputs": [],
   "source": [
    "### Get zcta_county information\n",
    "zcta_county=pd.read_csv('data/ZCTA_CountyInfo.csv',usecols=['ZCTA','NAME'])\n",
    "\n",
    "### Read full results and merge conunty info\n",
    "gtwr_full_results_var1 = pd.read_csv('4_plus_1/Full_TimeRange_AAG/gtwr_coeff_Crowding_[fixed-AllZcta-AllWeeks]_[bw-0.4_tau-4000].csv')\n",
    "gtwr_full_results_var2 = pd.read_csv('4_plus_1/Full_TimeRange_AAG/gtwr_coeff_Hispanic_[fixed-AllZcta-AllWeeks]_[bw-0.4_tau-4000].csv')\n",
    "gtwr_full_results_var3 = pd.read_csv('4_plus_1/Full_TimeRange_AAG/gtwr_coeff_NonHisBlk_[fixed-AllZcta-AllWeeks]_[bw-0.4_tau-4000].csv')\n",
    "gtwr_full_results_var4 = pd.read_csv('4_plus_1/Full_TimeRange_AAG/gtwr_coeff_EmployService_[fixed-AllZcta-AllWeeks]_[bw-0.4_tau-4000].csv')\n",
    "gtwr_full_results_var5 = pd.read_csv('4_plus_1/Full_TimeRange_AAG/gtwr_coeff_NoHighSchool_[fixed-AllZcta-AllWeeks]_[bw-0.4_tau-4000].csv')\n",
    "\n",
    "gtwr_full_results = gtwr_full_results_var1.merge(gtwr_full_results_var2[['ZCTA','Week','coeff_Hispanic']], on=['ZCTA','Week'], how='left')\n",
    "gtwr_full_results = gtwr_full_results.merge(gtwr_full_results_var3[['ZCTA','Week','coeff_NonHisBlk']], on=['ZCTA','Week'], how='left')\n",
    "gtwr_full_results = gtwr_full_results.merge(gtwr_full_results_var4[['ZCTA','Week','coeff_EmployService']], on=['ZCTA','Week'], how='left')\n",
    "gtwr_full_results = gtwr_full_results.merge(gtwr_full_results_var5[['ZCTA','Week','coeff_NoHighSchool']], on=['ZCTA','Week'], how='left')\n",
    "\n",
    "### Save a copy for future use\n",
    "# gtwr_full_results.to_csv('gtwr_coeff_all_predictors_only.csv', index=False)"
   ]
  },
  {
   "cell_type": "code",
   "execution_count": 5,
   "id": "73530ed6-4648-4153-9b5f-a8ec74d9104a",
   "metadata": {
    "execution": {
     "iopub.execute_input": "2023-11-07T01:55:16.634300Z",
     "iopub.status.busy": "2023-11-07T01:55:16.634300Z",
     "iopub.status.idle": "2023-11-07T01:55:16.838753Z",
     "shell.execute_reply": "2023-11-07T01:55:16.838753Z",
     "shell.execute_reply.started": "2023-11-07T01:55:16.634300Z"
    },
    "tags": []
   },
   "outputs": [
    {
     "name": "stdout",
     "output_type": "stream",
     "text": [
      "<class 'pandas.core.frame.DataFrame'>\n",
      "Int64Index: 203252 entries, 0 to 203251\n",
      "Data columns (total 9 columns):\n",
      " #   Column         Non-Null Count   Dtype  \n",
      "---  ------         --------------   -----  \n",
      " 0   ZCTA           203252 non-null  int64  \n",
      " 1   Week           203252 non-null  object \n",
      " 2   total_r        203252 non-null  float64\n",
      " 3   Crowding       203252 non-null  float64\n",
      " 4   Hispanic       203252 non-null  float64\n",
      " 5   NonHisBlk      203252 non-null  float64\n",
      " 6   EmployService  203252 non-null  float64\n",
      " 7   NoHighSchool   203252 non-null  float64\n",
      " 8   NAME           200446 non-null  object \n",
      "dtypes: float64(6), int64(1), object(2)\n",
      "memory usage: 15.5+ MB\n"
     ]
    }
   ],
   "source": [
    "### Only keep selected columns for plotting\n",
    "gtwr_full_results = gtwr_full_results[['ZCTA','Week','total_r','coeff_Crowding','coeff_Hispanic','coeff_NonHisBlk','coeff_EmployService','coeff_NoHighSchool']]\n",
    "\n",
    "### Add county names to column\n",
    "gtwr_full_results = gtwr_full_results.merge(zcta_county, on = 'ZCTA', how = 'left')\n",
    "\n",
    "gtwr_full_results = gtwr_full_results.rename(columns={'coeff_Crowding':'Crowding',\n",
    "                                                      'coeff_Hispanic':'Hispanic',\n",
    "                                                      'coeff_NonHisBlk':'NonHisBlk',\n",
    "                                                      'coeff_EmployService':'EmployService',\n",
    "                                                      'coeff_NoHighSchool':'NoHighSchool'})\n",
    "\n",
    "gtwr_full_results.info()"
   ]
  },
  {
   "cell_type": "markdown",
   "id": "c8418537-92f9-4371-9529-cb5596ef4494",
   "metadata": {},
   "source": [
    "## Merger GeoDF with GTWR outputs"
   ]
  },
  {
   "cell_type": "code",
   "execution_count": 6,
   "id": "2fcb9d96-6b1a-4d70-a674-bbd8be9078b5",
   "metadata": {
    "execution": {
     "iopub.execute_input": "2023-11-07T01:55:16.840748Z",
     "iopub.status.busy": "2023-11-07T01:55:16.839750Z",
     "iopub.status.idle": "2023-11-07T01:55:16.950456Z",
     "shell.execute_reply": "2023-11-07T01:55:16.949458Z",
     "shell.execute_reply.started": "2023-11-07T01:55:16.840748Z"
    },
    "tags": []
   },
   "outputs": [
    {
     "name": "stdout",
     "output_type": "stream",
     "text": [
      "(203252, 12)\n"
     ]
    },
    {
     "data": {
      "text/html": [
       "<div>\n",
       "<style scoped>\n",
       "    .dataframe tbody tr th:only-of-type {\n",
       "        vertical-align: middle;\n",
       "    }\n",
       "\n",
       "    .dataframe tbody tr th {\n",
       "        vertical-align: top;\n",
       "    }\n",
       "\n",
       "    .dataframe thead th {\n",
       "        text-align: right;\n",
       "    }\n",
       "</style>\n",
       "<table border=\"1\" class=\"dataframe\">\n",
       "  <thead>\n",
       "    <tr style=\"text-align: right;\">\n",
       "      <th></th>\n",
       "      <th>ZCTA5CE10</th>\n",
       "      <th>ZCTA</th>\n",
       "      <th>Area</th>\n",
       "      <th>geometry</th>\n",
       "      <th>Week</th>\n",
       "      <th>total_r</th>\n",
       "      <th>Crowding</th>\n",
       "      <th>Hispanic</th>\n",
       "      <th>NonHisBlk</th>\n",
       "      <th>EmployService</th>\n",
       "      <th>NoHighSchool</th>\n",
       "      <th>NAME</th>\n",
       "    </tr>\n",
       "  </thead>\n",
       "  <tbody>\n",
       "    <tr>\n",
       "      <th>0</th>\n",
       "      <td>93924</td>\n",
       "      <td>93924</td>\n",
       "      <td>190.283915</td>\n",
       "      <td>POLYGON ((-162540.814 -176061.241, -162041.898...</td>\n",
       "      <td>2020-01-20</td>\n",
       "      <td>0.0</td>\n",
       "      <td>-0.004047</td>\n",
       "      <td>-0.000575</td>\n",
       "      <td>0.015814</td>\n",
       "      <td>-0.003583</td>\n",
       "      <td>-0.003898</td>\n",
       "      <td>Monterey</td>\n",
       "    </tr>\n",
       "    <tr>\n",
       "      <th>1</th>\n",
       "      <td>93924</td>\n",
       "      <td>93924</td>\n",
       "      <td>190.283915</td>\n",
       "      <td>POLYGON ((-162540.814 -176061.241, -162041.898...</td>\n",
       "      <td>2020-01-27</td>\n",
       "      <td>0.0</td>\n",
       "      <td>-0.014361</td>\n",
       "      <td>0.028274</td>\n",
       "      <td>-0.088127</td>\n",
       "      <td>-0.016516</td>\n",
       "      <td>-0.005007</td>\n",
       "      <td>Monterey</td>\n",
       "    </tr>\n",
       "  </tbody>\n",
       "</table>\n",
       "</div>"
      ],
      "text/plain": [
       "  ZCTA5CE10   ZCTA        Area  \\\n",
       "0     93924  93924  190.283915   \n",
       "1     93924  93924  190.283915   \n",
       "\n",
       "                                            geometry        Week  total_r  \\\n",
       "0  POLYGON ((-162540.814 -176061.241, -162041.898...  2020-01-20      0.0   \n",
       "1  POLYGON ((-162540.814 -176061.241, -162041.898...  2020-01-27      0.0   \n",
       "\n",
       "   Crowding  Hispanic  NonHisBlk  EmployService  NoHighSchool      NAME  \n",
       "0 -0.004047 -0.000575   0.015814      -0.003583     -0.003898  Monterey  \n",
       "1 -0.014361  0.028274  -0.088127      -0.016516     -0.005007  Monterey  "
      ]
     },
     "execution_count": 6,
     "metadata": {},
     "output_type": "execute_result"
    }
   ],
   "source": [
    "### Merger GeoDF with GTWR outputs \n",
    "ZCTA_withCoeff_gdf = ZCTA_CA.merge(gtwr_full_results, on='ZCTA',how='left')\n",
    "print (ZCTA_withCoeff_gdf.shape)\n",
    "ZCTA_withCoeff_gdf.head(2)"
   ]
  },
  {
   "cell_type": "code",
   "execution_count": null,
   "id": "f880c988-9a91-40de-a248-257f0b4fd0de",
   "metadata": {},
   "outputs": [],
   "source": [
    "### Write to file for future use\n",
    "\n",
    "# ZCTA_withCoeff_gdf.to_csv(\"GeoDataFram_AllZCTAs_FullTimeRange_withCoeff_proj6414.csv\", index=False)\n",
    "ZCTA_withCoeff_gdf.to_pickle(\"GeoDataFram_AllZCTAs_FullTimeRange_withCoeff_proj6414.pkl\")\n",
    "ZCTA_withCoeff_gdf = pd.read_pickle(\"GeoDataFram_AllZCTAs_FullTimeRange_withCoeff_proj6414.pkl\")"
   ]
  },
  {
   "cell_type": "code",
   "execution_count": null,
   "id": "9131a757-cd93-4864-a6e5-2ec3da1cc4a9",
   "metadata": {},
   "outputs": [],
   "source": []
  },
  {
   "cell_type": "markdown",
   "id": "71ad1f69-dd66-42d7-807d-14ab2483a0dd",
   "metadata": {},
   "source": [
    "---\n",
    "## Plot No.1: ALL ZCTAs / Single Var / Full TimeRange / Value: Full TimeRange median"
   ]
  },
  {
   "cell_type": "code",
   "execution_count": 7,
   "id": "88cfde77-e467-473d-84a2-a2d8aee18cac",
   "metadata": {
    "execution": {
     "iopub.execute_input": "2023-11-07T01:55:22.018374Z",
     "iopub.status.busy": "2023-11-07T01:55:22.018374Z",
     "iopub.status.idle": "2023-11-07T01:55:22.113120Z",
     "shell.execute_reply": "2023-11-07T01:55:22.113120Z",
     "shell.execute_reply.started": "2023-11-07T01:55:22.018374Z"
    },
    "tags": []
   },
   "outputs": [
    {
     "name": "stdout",
     "output_type": "stream",
     "text": [
      "(1666, 9)\n"
     ]
    },
    {
     "data": {
      "text/html": [
       "<div>\n",
       "<style scoped>\n",
       "    .dataframe tbody tr th:only-of-type {\n",
       "        vertical-align: middle;\n",
       "    }\n",
       "\n",
       "    .dataframe tbody tr th {\n",
       "        vertical-align: top;\n",
       "    }\n",
       "\n",
       "    .dataframe thead th {\n",
       "        text-align: right;\n",
       "    }\n",
       "</style>\n",
       "<table border=\"1\" class=\"dataframe\">\n",
       "  <thead>\n",
       "    <tr style=\"text-align: right;\">\n",
       "      <th></th>\n",
       "      <th>ZCTA5CE10</th>\n",
       "      <th>ZCTA</th>\n",
       "      <th>Area</th>\n",
       "      <th>geometry</th>\n",
       "      <th>Crowding</th>\n",
       "      <th>Hispanic</th>\n",
       "      <th>NonHisBlk</th>\n",
       "      <th>EmployService</th>\n",
       "      <th>NoHighSchool</th>\n",
       "    </tr>\n",
       "  </thead>\n",
       "  <tbody>\n",
       "    <tr>\n",
       "      <th>0</th>\n",
       "      <td>93924</td>\n",
       "      <td>93924</td>\n",
       "      <td>190.283915</td>\n",
       "      <td>POLYGON ((-162540.814 -176061.241, -162041.898...</td>\n",
       "      <td>-1.812241</td>\n",
       "      <td>7.679590</td>\n",
       "      <td>2.905605</td>\n",
       "      <td>-3.786627</td>\n",
       "      <td>7.671866</td>\n",
       "    </tr>\n",
       "    <tr>\n",
       "      <th>1</th>\n",
       "      <td>95404</td>\n",
       "      <td>95404</td>\n",
       "      <td>80.004021</td>\n",
       "      <td>POLYGON ((-238341.052 60298.013, -237609.933 6...</td>\n",
       "      <td>0.904485</td>\n",
       "      <td>14.936286</td>\n",
       "      <td>6.184869</td>\n",
       "      <td>5.421746</td>\n",
       "      <td>12.757758</td>\n",
       "    </tr>\n",
       "  </tbody>\n",
       "</table>\n",
       "</div>"
      ],
      "text/plain": [
       "  ZCTA5CE10   ZCTA        Area  \\\n",
       "0     93924  93924  190.283915   \n",
       "1     95404  95404   80.004021   \n",
       "\n",
       "                                            geometry  Crowding   Hispanic  \\\n",
       "0  POLYGON ((-162540.814 -176061.241, -162041.898... -1.812241   7.679590   \n",
       "1  POLYGON ((-238341.052 60298.013, -237609.933 6...  0.904485  14.936286   \n",
       "\n",
       "   NonHisBlk  EmployService  NoHighSchool  \n",
       "0   2.905605      -3.786627      7.671866  \n",
       "1   6.184869       5.421746     12.757758  "
      ]
     },
     "execution_count": 7,
     "metadata": {},
     "output_type": "execute_result"
    }
   ],
   "source": [
    "plot_vars = ['Crowding','Hispanic','NonHisBlk','EmployService','NoHighSchool']\n",
    "colors = ['Reds','Greens','Blues','Oranges','Purples']\n",
    "\n",
    "### Calculate mdeian for each ZCTA, over full time rage\n",
    "ZCTA_singleVar_media_v1 = ZCTA_withCoeff_gdf.groupby('ZCTA')[plot_vars[0]].median().reset_index()\n",
    "ZCTA_singleVar_media_v2 = ZCTA_withCoeff_gdf.groupby('ZCTA')[plot_vars[1]].median().reset_index()\n",
    "ZCTA_singleVar_media_v3 = ZCTA_withCoeff_gdf.groupby('ZCTA')[plot_vars[2]].median().reset_index()\n",
    "ZCTA_singleVar_media_v4 = ZCTA_withCoeff_gdf.groupby('ZCTA')[plot_vars[3]].median().reset_index()\n",
    "ZCTA_singleVar_media_v5 = ZCTA_withCoeff_gdf.groupby('ZCTA')[plot_vars[4]].median().reset_index()\n",
    "\n",
    "### Create a ZCTA gdf with only median for each location \n",
    "ZCTA_withCoeff_gdf_medianOnly = ZCTA_CA.merge(ZCTA_singleVar_media_v1, on='ZCTA',how='left')\n",
    "ZCTA_withCoeff_gdf_medianOnly = ZCTA_withCoeff_gdf_medianOnly.merge(ZCTA_singleVar_media_v2, on='ZCTA',how='left')\n",
    "ZCTA_withCoeff_gdf_medianOnly = ZCTA_withCoeff_gdf_medianOnly.merge(ZCTA_singleVar_media_v3, on='ZCTA',how='left')\n",
    "ZCTA_withCoeff_gdf_medianOnly = ZCTA_withCoeff_gdf_medianOnly.merge(ZCTA_singleVar_media_v4, on='ZCTA',how='left')\n",
    "ZCTA_withCoeff_gdf_medianOnly = ZCTA_withCoeff_gdf_medianOnly.merge(ZCTA_singleVar_media_v5, on='ZCTA',how='left')\n",
    "\n",
    "print (ZCTA_withCoeff_gdf_medianOnly.shape)\n",
    "ZCTA_withCoeff_gdf_medianOnly.head(2)"
   ]
  },
  {
   "cell_type": "code",
   "execution_count": null,
   "id": "4e62efdc-6829-4c9e-8c95-a06c3a99fc55",
   "metadata": {
    "tags": []
   },
   "outputs": [],
   "source": [
    "plot_data = ZCTA_withCoeff_gdf_medianOnly.copy()\n",
    "plot_vars = ['Crowding','Hispanic','NonHisBlk','NoHighSchool','EmployService']\n",
    "colors = ['Reds','Greens','Blues','Oranges','Purples']\n",
    "filter_outlier = False\n",
    "\n",
    "\n",
    "for plot_var, color in zip(plot_vars,colors):\n",
    "    \n",
    "    if filter_outlier: \n",
    "        q_low = plot_data[plot_var].quantile(0.02)\n",
    "        q_hi  = plot_data[plot_var].quantile(0.98)\n",
    "        plot_data_final = plot_data[(plot_data[plot_var] < q_hi) & (plot_data[plot_var] > q_low)]\n",
    "    else:\n",
    "        plot_data_final = plot_data\n",
    "\n",
    "    ### Plot DF\n",
    "    fig, ax = plt.subplots(figsize=(4, 6))\n",
    "    \n",
    "    plot_data_final.plot(ax=ax, column=plot_var, scheme='quantiles', k=7, cmap=color, edgecolor='gray',linewidth=0.08, legend=False)\n",
    "    CA_County.plot(ax=ax, facecolor=\"none\", edgecolor='gray', lw=0.14)\n",
    "    \n",
    "    ax.set_axis_off()\n",
    "    \n",
    "    output_map_name = f\"AllZCTAs_median_{plot_var}_{'filtered[2-98]_'if filter_outlier else ''}proj6414.png\"\n",
    "    \n",
    "    ### Save figures\n",
    "    fig.savefig(output_map_name, transparent=True, bbox_inches='tight', pad_inches=0, dpi=300)\n",
    "    \n",
    "    ### Clear inline\n",
    "    fig.clf()\n",
    "    plt.clf()\n",
    "    # plt.close()"
   ]
  },
  {
   "cell_type": "code",
   "execution_count": null,
   "id": "21dbd471-a496-47e2-9bc1-9031779ea8e8",
   "metadata": {},
   "outputs": [],
   "source": []
  },
  {
   "cell_type": "code",
   "execution_count": null,
   "id": "7a8d580b-2cd9-4e6b-a98e-e0a01c4a6d76",
   "metadata": {},
   "outputs": [],
   "source": []
  }
 ],
 "metadata": {
  "kernelspec": {
   "display_name": "py310",
   "language": "python",
   "name": "py310"
  },
  "language_info": {
   "codemirror_mode": {
    "name": "ipython",
    "version": 3
   },
   "file_extension": ".py",
   "mimetype": "text/x-python",
   "name": "python",
   "nbconvert_exporter": "python",
   "pygments_lexer": "ipython3",
   "version": "3.10.9"
  }
 },
 "nbformat": 4,
 "nbformat_minor": 5
}
